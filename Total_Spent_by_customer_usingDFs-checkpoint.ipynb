{
 "cells": [
  {
   "cell_type": "code",
   "execution_count": null,
   "id": "330c6fca",
   "metadata": {},
   "outputs": [],
   "source": [
    "from pyspark.sql import SparkSession\n",
    "from pyspark.sql import functions as func\n",
    "from pyspark.sql.types import StructType, StructField, IntegerType, FloatType\n",
    "\n",
    "spark = SparkSession.builder.appName(\"TotalSpentByCustomer\").master(\"local[*]\").getOrCreate()\n",
    "\n",
    "custOrderSchema = StructType([\\\n",
    "                                StructField(\"cust_id\", IntegerType, True),\n",
    "                                StructField(\"item_id\", IntegerType, True),\n",
    "                                StructField(\"amount_spent\", FloatType, True)\n",
    "                            ])\n",
    "\n",
    "\n",
    "customersDF = spark.read.schema(custOrderSchema).csv(\"file:///SparkCourse/CustomerOrders.csv\")\n",
    "\n",
    "totalByCust = customersDF.groupBy(\"cust_id\").agg(func.round(func.sum(\"amount_spent\"),2)\\\n",
    "                                                 .alias(\"Total_spent\")\n",
    "totalCustSorted = totalByCust.sort(\"Total_spent\")\n",
    "totalCustSorted.show(totalCustSorted.count())\n",
    "spark.stop()"
   ]
  }
 ],
 "metadata": {
  "kernelspec": {
   "display_name": "Python 3 (ipykernel)",
   "language": "python",
   "name": "python3"
  },
  "language_info": {
   "codemirror_mode": {
    "name": "ipython",
    "version": 3
   },
   "file_extension": ".py",
   "mimetype": "text/x-python",
   "name": "python",
   "nbconvert_exporter": "python",
   "pygments_lexer": "ipython3",
   "version": "3.9.7"
  }
 },
 "nbformat": 4,
 "nbformat_minor": 5
}
