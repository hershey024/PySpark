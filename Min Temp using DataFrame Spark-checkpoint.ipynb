{
 "cells": [
  {
   "cell_type": "code",
   "execution_count": null,
   "id": "8bf775bb",
   "metadata": {},
   "outputs": [],
   "source": [
    "from pyspark.sql import sql\n",
    "from pyspark.sql import functions as func\n",
    "from pyspark.sql.types import StructType, StructField, StringType, IntegerType, FloatType\n",
    "\n",
    "spark = SparkSession.builder.appName(\"Min Temperatures\").getOrCreate()\n",
    "\n",
    "schema = StructType([\\\n",
    "                     StructFieled(\"stationID\", StringType(), True),\\\n",
    "                     StructField(\"date\", IntegerType(), True),\\\n",
    "                     StructField(\"measure_type\", StringType(), True),\\\n",
    "                     StructField(\"temperature\", FloatType(), True)])\n",
    "\n",
    "df = spark.read.schema.(schema).csv(\"file:\\\\\\SparkCourse\\1800.csv\")\n",
    "df.printSchema()\n",
    "\n",
    "minTemps = df.filter(df.measure_type == \"TMIN\")\n",
    "\n",
    "stationTems = minTemps.select(\"stationID\", \"temperature\")\n",
    "\n",
    "minTempsByStation = minTemps.groupBy(\"stationID\").min(\"temperature\")\n",
    "minTempsByStation.show()\n",
    "\n",
    "#Convert Temp to Fahrenheit and sort the dataset\n",
    "\n",
    "minTempsByStationF = minTempsByStation.withColumn(\"temperature\", func.round(func.col(\"min(temperature)\")*0.1* (9.0/5.0) + 32.0 , 2))\\\n",
    ".select(\"stationID\", \"temperature\").sort(\"temperature\")\n",
    "\n",
    "results = minTempsByStationF.collect()\n",
    "\n",
    "for result in results:\n",
    "    print(results[0] +\"\\t{:.2f}F\".format(results[1]))\n",
    "    \n",
    "spark.stop()\n"
   ]
  }
 ],
 "metadata": {
  "kernelspec": {
   "display_name": "Python 3 (ipykernel)",
   "language": "python",
   "name": "python3"
  },
  "language_info": {
   "codemirror_mode": {
    "name": "ipython",
    "version": 3
   },
   "file_extension": ".py",
   "mimetype": "text/x-python",
   "name": "python",
   "nbconvert_exporter": "python",
   "pygments_lexer": "ipython3",
   "version": "3.9.7"
  }
 },
 "nbformat": 4,
 "nbformat_minor": 5
}
